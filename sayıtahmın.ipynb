{
  "nbformat": 4,
  "nbformat_minor": 0,
  "metadata": {
    "colab": {
      "provenance": [],
      "authorship_tag": "ABX9TyOhMm3lHM/t2E1Cf5w/aqXk",
      "include_colab_link": true
    },
    "kernelspec": {
      "name": "python3",
      "display_name": "Python 3"
    },
    "language_info": {
      "name": "python"
    }
  },
  "cells": [
    {
      "cell_type": "markdown",
      "metadata": {
        "id": "view-in-github",
        "colab_type": "text"
      },
      "source": [
        "<a href=\"https://colab.research.google.com/github/EnverSkywalker/Pyhton.v360/blob/main/say%C4%B1tahm%C4%B1n.ipynb\" target=\"_parent\"><img src=\"https://colab.research.google.com/assets/colab-badge.svg\" alt=\"Open In Colab\"/></a>"
      ]
    },
    {
      "cell_type": "code",
      "execution_count": null,
      "metadata": {
        "id": "HakRKP3YDrlX"
      },
      "outputs": [],
      "source": [
        "import random\n",
        "\n",
        "def sayi_tahmin():\n",
        "    try:\n",
        "        sayi = random.randint(1, 100)\n",
        "\n",
        "        while True:\n",
        "            try:\n",
        "                tahmin = int(input(\"Tahmininiz: \"))\n",
        "            except ValueError:\n",
        "                print(\"Lütfen sayısal bir değer girin.\")\n",
        "                continue\n",
        "\n",
        "            if tahmin < 1 or tahmin > 100:\n",
        "                print(\"1 ile 100 arasında bir sayı girin.\")\n",
        "            else:\n",
        "                if tahmin < sayi:\n",
        "                    print(\"Daha büyük bir sayı girin.\")\n",
        "                elif tahmin > sayi:\n",
        "                    print(\"Daha küçük bir sayı girin.\")\n",
        "                else:\n",
        "                    print(\"Doğru sayıyı buldunuz.\")\n",
        "                    break\n",
        "    except KeyboardInterrupt:\n",
        "        print(\"Oyun sonlandırıldı.\")\n",
        "\n",
        "sayi_tahmin()\n"
      ]
    }
  ]
}