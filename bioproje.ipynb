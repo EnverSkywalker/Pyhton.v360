{
  "nbformat": 4,
  "nbformat_minor": 0,
  "metadata": {
    "colab": {
      "provenance": [],
      "authorship_tag": "ABX9TyNncpmVEuaIBy827PrURKgh",
      "include_colab_link": true
    },
    "kernelspec": {
      "name": "python3",
      "display_name": "Python 3"
    },
    "language_info": {
      "name": "python"
    }
  },
  "cells": [
    {
      "cell_type": "markdown",
      "metadata": {
        "id": "view-in-github",
        "colab_type": "text"
      },
      "source": [
        "<a href=\"https://colab.research.google.com/github/EnverSkywalker/Pyhton.v360/blob/main/bioproje.ipynb\" target=\"_parent\"><img src=\"https://colab.research.google.com/assets/colab-badge.svg\" alt=\"Open In Colab\"/></a>"
      ]
    },
    {
      "cell_type": "code",
      "source": [
        "def bıologıcalcalc():\n",
        "  def biohesap(harf_dizisi):\n",
        "      sayac = 0\n",
        "      for i in range(len(harf_dizisi) - 1):\n",
        "          if (harf_dizisi[i].islower() and harf_dizisi[i+1].isupper()) or (harf_dizisi[i].isupper() and harf_dizisi[i+1].islower()):\n",
        "              if harf_dizisi[i].lower() == harf_dizisi[i+1].lower():\n",
        "                  sayac += 1\n",
        "      return sayac\n",
        "\n",
        "  try:\n",
        "      harf_dizisi = input(\"Aleli girin: \")\n",
        "      if not all(char.isalpha() for char in harf_dizisi):\n",
        "          print(\"Lütfen düzgün bir alel girin.\")\n",
        "      else:\n",
        "          sonuc = biohesap(harf_dizisi)\n",
        "          print(\"Fenotip sayısı:\", 3**sonuc)\n",
        "          print(\"Genotip sayısı:\", 2**sonuc)\n",
        "          print(\"Oluşturabileceği gamet sayısı:\", 2**sonuc)\n",
        "  except ValueError:\n",
        "        print(\"Lütfen düzgün bir alel girin.\")"
      ],
      "metadata": {
        "id": "2I-0v0z9f2Ff"
      },
      "execution_count": 5,
      "outputs": []
    },
    {
      "cell_type": "code",
      "source": [
        "bıologıcalcalc()"
      ],
      "metadata": {
        "colab": {
          "base_uri": "https://localhost:8080/"
        },
        "id": "lXASpgTezc8s",
        "outputId": "3e34b83f-809a-45ec-cd00-1694fb7577b5"
      },
      "execution_count": 6,
      "outputs": [
        {
          "output_type": "stream",
          "name": "stdout",
          "text": [
            "Aleli girin: XXYYZzwwQq\n",
            "Fenotip sayısı: 9\n",
            "Genotip sayısı: 4\n",
            "Oluşturabileceği gamet sayısı: 4\n"
          ]
        }
      ]
    },
    {
      "cell_type": "code",
      "source": [
        "bıologıcalcalc()"
      ],
      "metadata": {
        "id": "QMH6j22R1Hub",
        "colab": {
          "base_uri": "https://localhost:8080/"
        },
        "outputId": "7fd1eeff-d1ee-4a48-cffe-36903f669967"
      },
      "execution_count": 9,
      "outputs": [
        {
          "output_type": "stream",
          "name": "stdout",
          "text": [
            "Aleli girin: 3213VvccSs\n",
            "Lütfen düzgün bir alel girin.\n"
          ]
        }
      ]
    },
    {
      "cell_type": "code",
      "source": [
        "#İ harfini maalesef teknik bir sebepten dolayı hetoerozigot alel olsa bile program sayaca ekleyemiyor\n",
        "\n",
        "bıologıcalcalc()"
      ],
      "metadata": {
        "colab": {
          "base_uri": "https://localhost:8080/"
        },
        "id": "QObsBOwq_coT",
        "outputId": "f169e6a5-d542-4212-8a4b-9cb979655e6c"
      },
      "execution_count": 12,
      "outputs": [
        {
          "output_type": "stream",
          "name": "stdout",
          "text": [
            "Aleli girin: İi\n",
            "Fenotip sayısı: 1\n",
            "Genotip sayısı: 1\n",
            "Oluşturabileceği gamet sayısı: 1\n"
          ]
        }
      ]
    }
  ]
}