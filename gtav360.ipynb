{
  "nbformat": 4,
  "nbformat_minor": 0,
  "metadata": {
    "colab": {
      "provenance": [],
      "authorship_tag": "ABX9TyP80SbSyMYmdPRIt39yoHrU",
      "include_colab_link": true
    },
    "kernelspec": {
      "name": "python3",
      "display_name": "Python 3"
    },
    "language_info": {
      "name": "python"
    }
  },
  "cells": [
    {
      "cell_type": "markdown",
      "metadata": {
        "id": "view-in-github",
        "colab_type": "text"
      },
      "source": [
        "<a href=\"https://colab.research.google.com/github/EnverSkywalker/Pyhton.v360/blob/main/gtav360.ipynb\" target=\"_parent\"><img src=\"https://colab.research.google.com/assets/colab-badge.svg\" alt=\"Open In Colab\"/></a>"
      ]
    },
    {
      "cell_type": "code",
      "source": [
        "class Karakter:\n",
        "    def __init__(self, sac_rengi, sac_tipi, cinsiyet, vucut_tipi, ten_rengi, goz_rengi, karakter_sinifi, sakal_uzunlugu=None):\n",
        "        self.sac_rengi = sac_rengi\n",
        "        self.sac_tipi = sac_tipi\n",
        "        self.cinsiyet = cinsiyet\n",
        "        self.vucut_tipi = vucut_tipi\n",
        "        self.ten_rengi = ten_rengi\n",
        "        self.goz_rengi = goz_rengi\n",
        "        self.karakter_sinifi = karakter_sinifi\n",
        "        self.sakal_uzunlugu = sakal_uzunlugu if cinsiyet == \"Erkek\" else None\n",
        "\n",
        "sac_rengi = input(\"Saç rengini girin: \")\n",
        "sac_tipi = input(\"Saç tipini girin: \")\n",
        "cinsiyet = input(\"Karakter cinsiyetini girin: (Kadın/Erkek)\")\n",
        "vucut_tipi = input(\"Vucut tipini girin: \")\n",
        "ten_rengi = input(\"Ten rengini girin: \")\n",
        "goz_rengi = input(\"Göz rengini girin: \")s\n",
        "karakter_sinifi = input(\"Karakter sınıfını girin \")\n",
        "\n",
        "karakter = Karakter(sac_rengi, sac_tipi, cinsiyet, vucut_tipi, ten_rengi, goz_rengi, karakter_sinifi)\n"
      ],
      "metadata": {
        "id": "02Dom4SehvJe"
      },
      "execution_count": null,
      "outputs": []
    }
  ]
}