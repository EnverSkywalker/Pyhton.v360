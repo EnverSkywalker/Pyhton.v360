{
  "nbformat": 4,
  "nbformat_minor": 0,
  "metadata": {
    "colab": {
      "provenance": [],
      "authorship_tag": "ABX9TyP4oQRCKgBCjQ8WBDZebVqp",
      "include_colab_link": true
    },
    "kernelspec": {
      "name": "python3",
      "display_name": "Python 3"
    },
    "language_info": {
      "name": "python"
    }
  },
  "cells": [
    {
      "cell_type": "markdown",
      "metadata": {
        "id": "view-in-github",
        "colab_type": "text"
      },
      "source": [
        "<a href=\"https://colab.research.google.com/github/EnverSkywalker/Pyhton.v360/blob/main/filmveritaban%C4%B1.ipynb\" target=\"_parent\"><img src=\"https://colab.research.google.com/assets/colab-badge.svg\" alt=\"Open In Colab\"/></a>"
      ]
    },
    {
      "cell_type": "code",
      "execution_count": 13,
      "metadata": {
        "colab": {
          "base_uri": "https://localhost:8080/"
        },
        "id": "L0mz0Vb13Bmf",
        "outputId": "f3826edc-b2f8-46e2-9629-2751d1bbd8fb"
      },
      "outputs": [
        {
          "output_type": "stream",
          "name": "stdout",
          "text": [
            "Hangi kategorideki filmleri önermek istersiniz? Drama\n",
            "Önerilen filmler:\n",
            "1. The Silence of the Lambs - Aktörler: Jodie Foster, Anthony Hopkins (Jonathan Demme, 1991)\n",
            "2. Çizgili Pijamalı Çocuk - Aktörler: Asa Butterfield, Jack Scanlon (Mark Herman, 2008)\n",
            "3. Hachi: A Dog's Tale - Aktörler: Richard Gere, Joan Allen (Lasse Hallström, 2009)\n"
          ]
        }
      ],
      "source": [
        "import random\n",
        "\n",
        "filmveritabani = {\n",
        "    \"7. Koğuştaki Mucize\": {\n",
        "        \"Kategoriler\": [\"Drama\"],\n",
        "        \"Aktörler\": [\"Aras Bulut İynemli\", \"Deniz Baysal\"],\n",
        "        \"Yönetmen\": \"Mehmet Ada Öztekin\",\n",
        "        \"Yapım Yılı\": 2019\n",
        "    },\n",
        "    \"Star Wars: Episode III - Sith'in İntikamı\": {\n",
        "        \"Kategoriler\": [\"Aksiyon\", \"Macera\", \"Fantastik\"],\n",
        "        \"Aktörler\": [\"Hayden Christensen\", \"Natalie Portman\", \"Ewan McGregor\"],\n",
        "        \"Yönetmen\": \"George Lucas\",\n",
        "        \"Yapım Yılı\": 2005\n",
        "    },\n",
        "    \"Star Wars: Episode VI - Jedi'nin Dönüşü\": {\n",
        "        \"Kategoriler\": [\"Aksiyon\", \"Macera\", \"Fantastik\"],\n",
        "        \"Aktörler\": [\"Mark Hamill\", \"Harrison Ford\", \"Carrie Fisher\"],\n",
        "        \"Yönetmen\": \"Richard Marquand\",\n",
        "        \"Yapım Yılı\": 1983\n",
        "    },\n",
        "    \"Interstellar\": {\n",
        "        \"Kategoriler\": [\"Bilim Kurgu\", \"Drama\"],\n",
        "        \"Aktörler\": [\"Matthew McConaughey\", \"Anne Hathaway\", \"Jessica Chastain\"],\n",
        "        \"Yönetmen\": \"Christopher Nolan\",\n",
        "        \"Yapım Yılı\": 2014\n",
        "    },\n",
        "    \"The Godfather\": {\n",
        "        \"Kategoriler\": [\"Suç\", \"Drama\"],\n",
        "        \"Aktörler\": [\"Marlon Brando\", \"Al Pacino\"],\n",
        "        \"Yönetmen\": \"Francis Ford Coppola\",\n",
        "        \"Yapım Yılı\": 1972\n",
        "    },\n",
        "    \"The Dark Knight\": {\n",
        "        \"Kategoriler\": [\"Aksiyon\", \"Suç\", \"Drama\"],\n",
        "        \"Aktörler\": [\"Christian Bale\", \"Heath Ledger\"],\n",
        "        \"Yönetmen\": \"Christopher Nolan\",\n",
        "        \"Yapım Yılı\": 2008\n",
        "    },\n",
        "    \"Wall-E\": {\n",
        "        \"Kategoriler\": [\"Animasyon\", \"Macera\", \"Komedi\"],\n",
        "        \"Aktörler\": [\"Ben Burtt\", \"Elissa Knight\"],\n",
        "        \"Yönetmen\": \"Andrew Stanton\",\n",
        "        \"Yapım Yılı\": 2008\n",
        "    },\n",
        "    \"Forrest Gump\": {\n",
        "        \"Kategoriler\": [\"Drama\", \"Romantik\"],\n",
        "        \"Aktörler\": [\"Tom Hanks\", \"Robin Wright\"],\n",
        "        \"Yönetmen\": \"Robert Zemeckis\",\n",
        "        \"Yapım Yılı\": 1994\n",
        "    },\n",
        "    \"Inception\": {\n",
        "        \"Kategoriler\": [\"Aksiyon\", \"Macera\", \"Bilim Kurgu\"],\n",
        "        \"Aktörler\": [\"Leonardo DiCaprio\", \"Joseph Gordon-Levitt\"],\n",
        "        \"Yönetmen\": \"Christopher Nolan\",\n",
        "        \"Yapım Yılı\": 2010\n",
        "    },\n",
        "    \"Matrix\": {\n",
        "        \"Kategoriler\": [\"Aksiyon\", \"Bilim Kurgu\"],\n",
        "        \"Aktörler\": [\"Keanu Reeves\", \"Laurence Fishburne\"],\n",
        "        \"Yönetmen\": \"The Wachowskis\",\n",
        "        \"Yapım Yılı\": 1999\n",
        "    },\n",
        "    \"The Lord of the Rings: The Fellowship of the Ring\": {\n",
        "        \"Kategoriler\": [\"Macera\", \"Drama\", \"Fantastik\"],\n",
        "        \"Aktörler\": [\"Elijah Wood\", \"Ian McKellen\"],\n",
        "        \"Yönetmen\": \"Peter Jackson\",\n",
        "        \"Yapım Yılı\": 2001\n",
        "    },\n",
        "    \"Fight Club\": {\n",
        "        \"Kategoriler\": [\"Drama\"],\n",
        "        \"Aktörler\": [\"Brad Pitt\", \"Edward Norton\"],\n",
        "        \"Yönetmen\": \"David Fincher\",\n",
        "        \"Yapım Yılı\": 1999\n",
        "    },\n",
        "    \"Hachi: A Dog's Tale\": {\n",
        "        \"Kategoriler\": [\"Drama\"],\n",
        "        \"Aktörler\": [\"Richard Gere\", \"Joan Allen\"],\n",
        "        \"Yönetmen\": \"Lasse Hallström\",\n",
        "        \"Yapım Yılı\": 2009\n",
        "    },\n",
        "    \"Çizgili Pijamalı Çocuk\": {\n",
        "        \"Kategoriler\": [\"Drama\", \"Tarih\"],\n",
        "        \"Aktörler\": [\"Asa Butterfield\", \"Jack Scanlon\"],\n",
        "        \"Yönetmen\": \"Mark Herman\",\n",
        "        \"Yapım Yılı\": 2008\n",
        "    },\n",
        "    \"Geleceğe Dönüş\": {\n",
        "        \"Kategoriler\": [\"Aksiyon\", \"Macera\", \"Bilim Kurgu\"],\n",
        "        \"Aktörler\": [\"Michael J. Fox\", \"Christopher Lloyd\"],\n",
        "        \"Yönetmen\": \"Robert Zemeckis\",\n",
        "        \"Yapım Yılı\": 1985\n",
        "    },\n",
        "}\n",
        "\n",
        "def kategoriye_gore_film_oneri(kategori, film_veritabani):\n",
        "    uygun_filmler = [film for film, bilgiler in film_veritabani.items() if kategori in bilgiler[\"Kategoriler\"]]\n",
        "    return random.sample(uygun_filmler, min(3, len(uygun_filmler)))\n",
        "\n",
        "kategori = input(\"Hangi kategorideki filmleri önermek istersiniz? \")\n",
        "\n",
        "if kategori not in set(kategori for film in filmveritabani.values() for kategori in film[\"Kategoriler\"]):\n",
        "    print(\"Girdiğiniz kategoriye uygun film bulunamadı.\")\n",
        "else:\n",
        "    onerilen_filmler = kategoriye_gore_film_oneri(kategori, filmveritabani)\n",
        "    print(\"Önerilen filmler:\")\n",
        "    for i, film in enumerate(onerilen_filmler, 1):\n",
        "        print(f\"{i}. {film} - Aktörler: {', '.join(filmveritabani[film]['Aktörler'])} ({filmveritabani[film]['Yönetmen']}, {filmveritabani[film]['Yapım Yılı']})\")\n"
      ]
    }
  ]
}