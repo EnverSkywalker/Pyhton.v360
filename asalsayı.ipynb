{
  "nbformat": 4,
  "nbformat_minor": 0,
  "metadata": {
    "colab": {
      "provenance": [],
      "authorship_tag": "ABX9TyMJGAle2iPWWGjmvVrVl7Nh",
      "include_colab_link": true
    },
    "kernelspec": {
      "name": "python3",
      "display_name": "Python 3"
    },
    "language_info": {
      "name": "python"
    }
  },
  "cells": [
    {
      "cell_type": "markdown",
      "metadata": {
        "id": "view-in-github",
        "colab_type": "text"
      },
      "source": [
        "<a href=\"https://colab.research.google.com/github/EnverSkywalker/Pyhton.v360/blob/main/asalsay%C4%B1.ipynb\" target=\"_parent\"><img src=\"https://colab.research.google.com/assets/colab-badge.svg\" alt=\"Open In Colab\"/></a>"
      ]
    },
    {
      "cell_type": "code",
      "execution_count": 1,
      "metadata": {
        "id": "N8L8V7_Ark1Z",
        "colab": {
          "base_uri": "https://localhost:8080/"
        },
        "outputId": "cf24278d-2711-46f0-abf5-a2c8f3951e12"
      },
      "outputs": [
        {
          "output_type": "stream",
          "name": "stdout",
          "text": [
            "Lütfen bir sayı girin: 987\n",
            "Girdiğiniz sayı asal bir sayı değildir.\n"
          ]
        }
      ],
      "source": [
        "def asalsayidetektoru():\n",
        "    try:\n",
        "        sayi = int(input(\"Lütfen bir sayı girin: \"))\n",
        "        if sayi <= 1:\n",
        "            print(\"Lütfen 1'den büyük bir sayı girin.\")\n",
        "        else:\n",
        "            for i in range(2, sayi):\n",
        "                if sayi % i == 0:\n",
        "                    print(\"Girdiğiniz sayı asal bir sayı değildir.\")\n",
        "                    break\n",
        "            else:\n",
        "                print(\"Girdiğiniz sayı asal bir sayıdır.\")\n",
        "\n",
        "    except ValueError:\n",
        "        print(\"Lütfen bir sayı girin\")\n",
        "\n",
        "asalsayidetektoru()"
      ]
    }
  ]
}